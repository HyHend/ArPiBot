{
 "cells": [
  {
   "cell_type": "code",
   "execution_count": null,
   "metadata": {},
   "outputs": [],
   "source": [
    "from threading import Thread\n",
    "from socketIO_client import SocketIO\n",
    "import json\n",
    "\n",
    "host = 'x.x.x.x'\n",
    "port = 5000\n",
    "\n",
    "def websocket_on_message(message):\n",
    "    print(message)\n",
    "    \n",
    "class WebsocketHandler(object):\n",
    "    def send_message(self, message):\n",
    "        self.socketio.emit('webcl', message)\n",
    "\n",
    "    def __init__(self):\n",
    "        self.socketio = SocketIO(host, port)\n",
    "        self.socketio.on('webcl', websocket_on_message)\n",
    "\n",
    "        self.receive_events_thread = Thread(target=self._receive_events_thread)\n",
    "        self.receive_events_thread.daemon = True\n",
    "        self.receive_events_thread.start()\n",
    "\n",
    "    def _receive_events_thread(self):\n",
    "        self.socketio.wait()\n",
    "        \n",
    "WEBSOCKET = WebsocketHandler()"
   ]
  },
  {
   "cell_type": "code",
   "execution_count": null,
   "metadata": {},
   "outputs": [],
   "source": [
    "WEBSOCKET.send_message(json.dumps({\"ECHO\":\"You're working\"}))"
   ]
  },
  {
   "cell_type": "code",
   "execution_count": null,
   "metadata": {},
   "outputs": [],
   "source": [
    "WEBSOCKET.send_message(json.dumps({\"ROBOT\":{\"SENSOR\":{\"angle\":10}}}))"
   ]
  },
  {
   "cell_type": "code",
   "execution_count": null,
   "metadata": {},
   "outputs": [],
   "source": [
    "WEBSOCKET.send_message(json.dumps({\"ROBOT\":{\"DRIVE\":{\"velocity\":0, \"rotation\":\n",
    "                                                     90}}}))"
   ]
  },
  {
   "cell_type": "code",
   "execution_count": null,
   "metadata": {},
   "outputs": [],
   "source": []
  }
 ],
 "metadata": {
  "kernelspec": {
   "display_name": "Python 3",
   "language": "python",
   "name": "python3"
  },
  "language_info": {
   "codemirror_mode": {
    "name": "ipython",
    "version": 3
   },
   "file_extension": ".py",
   "mimetype": "text/x-python",
   "name": "python",
   "nbconvert_exporter": "python",
   "pygments_lexer": "ipython3",
   "version": "3.6.1"
  }
 },
 "nbformat": 4,
 "nbformat_minor": 2
}
